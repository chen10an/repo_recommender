{
 "cells": [
  {
   "cell_type": "markdown",
   "metadata": {},
   "source": [
    "# Collaborative Filtering for GitHub Stars"
   ]
  },
  {
   "cell_type": "code",
   "execution_count": 1,
   "metadata": {
    "collapsed": true
   },
   "outputs": [],
   "source": [
    "# libraries\n",
    "import numpy as np\n",
    "from scipy import io\n",
    "import pickle\n",
    "import pandas as pd\n",
    "import re\n",
    "\n",
    "# files\n",
    "import utils\n",
    "from user import User"
   ]
  },
  {
   "cell_type": "markdown",
   "metadata": {},
   "source": [
    "## Create inputs from Y_df.pickle"
   ]
  },
  {
   "cell_type": "code",
   "execution_count": 2,
   "metadata": {
    "collapsed": true
   },
   "outputs": [],
   "source": [
    "# any input with the following specifications will work:\n",
    "# ITEM_LIST: list of item names\n",
    "# Y: 2D array of no. items (repos) x no. users\n",
    "# R: same shape as Y, R[i,j] = 1 if and only if user j gave a rating to movie i\n",
    "\n",
    "# initialize the inputs\n",
    "ITEM_LIST = []\n",
    "\n",
    "Y = None\n",
    "R = None"
   ]
  },
  {
   "cell_type": "code",
   "execution_count": 3,
   "metadata": {},
   "outputs": [
    {
     "name": "stdout",
     "output_type": "stream",
     "text": [
      "ITEM_LIST: <class 'numpy.ndarray'> of length 1000\n",
      "Y: <class 'numpy.ndarray'> of 1000 items x 17047 users\n",
      "R: <class 'numpy.ndarray'> of 1000 items x 17047 users\n"
     ]
    }
   ],
   "source": [
    "# fill ITEM_LIST, Y and R\n",
    "Y_df = pickle.load(open('Y_df.pickle', 'rb'))\n",
    "ITEM_LIST = Y_df.index.values\n",
    "Y = Y_df.values\n",
    "R = Y  # equal since Y values are binary (0/1) in this case\n",
    "\n",
    "print(\"ITEM_LIST: {} of length {}\".format(type(ITEM_LIST), len(ITEM_LIST)))\n",
    "print(\"Y: {} of {} items x {} users\".format(type(Y), Y.shape[0], Y.shape[1]))\n",
    "print(\"R: {} of {} items x {} users\".format(type(R), R.shape[0], R.shape[1]))"
   ]
  },
  {
   "cell_type": "code",
   "execution_count": 4,
   "metadata": {},
   "outputs": [
    {
     "data": {
      "text/plain": [
       "0.010004282278406757"
      ]
     },
     "execution_count": 4,
     "metadata": {},
     "output_type": "execute_result"
    }
   ],
   "source": [
    "# sparsity: (no. stars)/(no. possible stars)\n",
    "np.sum(R)/np.size(R)"
   ]
  },
  {
   "cell_type": "markdown",
   "metadata": {},
   "source": [
    "## Create a new user and choose repos to star"
   ]
  },
  {
   "cell_type": "code",
   "execution_count": 5,
   "metadata": {
    "collapsed": true
   },
   "outputs": [],
   "source": [
    "# create new user\n",
    "user = User(ITEM_LIST)"
   ]
  },
  {
   "cell_type": "code",
   "execution_count": 6,
   "metadata": {},
   "outputs": [
    {
     "name": "stdout",
     "output_type": "stream",
     "text": [
      "index\tname\n",
      "26\tvinta/awesome-python\n",
      "337\tfaif/python-patterns\n",
      "338\tpython/cpython\n",
      "344\tkennethreitz/python-guide\n",
      "359\tipython/ipython\n",
      "507\tdonnemartin/data-science-ipython-notebooks\n",
      "948\trasbt/python-machine-learning-book\n",
      "999\tgoogle/python-fire\n"
     ]
    }
   ],
   "source": [
    "# change query to search ITEM_LIST for which items (repos) to star\n",
    "query = 'python'  # can use regex\n",
    "result = [(i,ITEM_LIST[i]) for i in range(len(ITEM_LIST)) if re.search(query, ITEM_LIST[i]) is not None]\n",
    "\n",
    "print(\"index\\tname\")\n",
    "for i in result:\n",
    "    print(str(i[0]) + \"\\t\" + i[1])"
   ]
  },
  {
   "cell_type": "code",
   "execution_count": 7,
   "metadata": {},
   "outputs": [
    {
     "data": {
      "text/plain": [
       "[26, 337, 338, 344, 359, 507, 948, 999]"
      ]
     },
     "execution_count": 7,
     "metadata": {},
     "output_type": "execute_result"
    }
   ],
   "source": [
    "# enter indexes of starred items into dex\n",
    "# for example, a user wants to star every repo matching the current query\n",
    "dex = [i[0] for i in result]\n",
    "dex"
   ]
  },
  {
   "cell_type": "code",
   "execution_count": 8,
   "metadata": {},
   "outputs": [
    {
     "name": "stdout",
     "output_type": "stream",
     "text": [
      "User ratings:\n",
      "Starred vinta/awesome-python\n",
      "Starred faif/python-patterns\n",
      "Starred python/cpython\n",
      "Starred kennethreitz/python-guide\n",
      "Starred ipython/ipython\n",
      "Starred donnemartin/data-science-ipython-notebooks\n",
      "Starred rasbt/python-machine-learning-book\n",
      "Starred google/python-fire\n"
     ]
    }
   ],
   "source": [
    "# starred repos are represented as 1s in the ratings matrix\n",
    "user.ratings[dex] = 1\n",
    "user.printRatings(ITEM_LIST)"
   ]
  },
  {
   "cell_type": "markdown",
   "metadata": {},
   "source": [
    "## Make recommendations for the user"
   ]
  },
  {
   "cell_type": "code",
   "execution_count": 9,
   "metadata": {},
   "outputs": [
    {
     "name": "stdout",
     "output_type": "stream",
     "text": [
      "\n",
      "Training model...\n",
      "iteration 0\tloss 556048.0623009756\n",
      "iteration 10\tloss 134538.13668888542\n",
      "iteration 20\tloss 75891.9873360359\n",
      "iteration 30\tloss 47501.2248331613\n",
      "iteration 40\tloss 33856.775920234235\n",
      "iteration 50\tloss 22668.14511342928\n",
      "iteration 60\tloss 13889.674561787315\n",
      "iteration 70\tloss 8532.045944274947\n",
      "iteration 80\tloss 2521.001348934327\n",
      "iteration 90\tloss 2282.733456726387\n",
      "Warning: Maximum number of iterations has been exceeded.\n",
      "         Current function value: 2139.537442\n",
      "         Iterations: 100\n",
      "         Function evaluations: 149\n",
      "         Gradient evaluations: 149\n"
     ]
    }
   ],
   "source": [
    "# play around with parameters: lambd (for regularization), num_features, maxiter\n",
    "# don't normalize the ratings since all of the ratings are 1\n",
    "user.train(Y, R, lambd=0.5, normalize=False, num_features=16, maxiter=100)  # prints loss every 10th iteration"
   ]
  },
  {
   "cell_type": "code",
   "execution_count": 10,
   "metadata": {},
   "outputs": [
    {
     "name": "stdout",
     "output_type": "stream",
     "text": [
      "\n",
      "Top 20 recommendations:\n",
      "Predicting star for vurtun/nuklear\n",
      "Predicting star for gitlabhq/gitlabhq\n",
      "Predicting star for ruby/ruby\n",
      "Predicting star for nodejs/node-v0.x-archive\n",
      "Predicting star for google/guetzli\n",
      "Predicting star for jquery/jquery\n",
      "Predicting star for apache/incubator-mxnet\n",
      "Predicting star for fchollet/keras\n",
      "Predicting star for Homebrew/legacy-homebrew\n",
      "Predicting star for tj/git-extras\n",
      "Predicting star for 0xAX/linux-insides\n",
      "Predicting star for freeCodeCamp/freeCodeCamp\n",
      "Predicting star for alebcay/awesome-shell\n",
      "Predicting star for gohugoio/hugo\n",
      "Predicting star for rails/rails\n",
      "Predicting star for requests/requests\n",
      "Predicting star for NARKOZ/hacker-scripts\n",
      "Predicting star for nicolargo/glances\n",
      "Predicting star for twbs/bootstrap\n",
      "Predicting star for open-source-society/computer-science\n"
     ]
    }
   ],
   "source": [
    "user.predict(ITEM_LIST, Y, R, n=20, normalize=False)\n",
    "user.printTop()\n",
    "\n",
    "# when running this algorithm repeatedly,\n",
    "# recommendations will be different for the same user ratings\n",
    "# due to random initialization of the weights"
   ]
  }
 ],
 "metadata": {
  "kernelspec": {
   "display_name": "Python3 (ml)",
   "language": "python",
   "name": "ml"
  },
  "language_info": {
   "codemirror_mode": {
    "name": "ipython",
    "version": 3
   },
   "file_extension": ".py",
   "mimetype": "text/x-python",
   "name": "python",
   "nbconvert_exporter": "python",
   "pygments_lexer": "ipython3",
   "version": "3.6.2"
  }
 },
 "nbformat": 4,
 "nbformat_minor": 2
}
